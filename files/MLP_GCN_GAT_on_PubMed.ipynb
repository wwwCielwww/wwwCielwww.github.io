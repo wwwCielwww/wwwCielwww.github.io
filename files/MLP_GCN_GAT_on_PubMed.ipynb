{
  "nbformat": 4,
  "nbformat_minor": 0,
  "metadata": {
    "colab": {
      "name": "MLP_GCN_GAT_on_PubMed.ipynb",
      "provenance": [],
      "collapsed_sections": []
    },
    "kernelspec": {
      "name": "python3",
      "display_name": "Python 3"
    },
    "language_info": {
      "name": "python"
    },
    "accelerator": "GPU"
  },
  "cells": [
    {
      "cell_type": "code",
      "metadata": {
        "colab": {
          "base_uri": "https://localhost:8080/",
          "height": 35
        },
        "id": "SeOguUgwB7Ar",
        "outputId": "5fddf5fc-ff3a-4b8b-f35c-87a5d68082a6"
      },
      "source": [
        "import torch\n",
        "torch.__version__"
      ],
      "execution_count": 1,
      "outputs": [
        {
          "output_type": "execute_result",
          "data": {
            "application/vnd.google.colaboratory.intrinsic+json": {
              "type": "string"
            },
            "text/plain": [
              "'1.9.0+cu102'"
            ]
          },
          "metadata": {
            "tags": []
          },
          "execution_count": 1
        }
      ]
    },
    {
      "cell_type": "code",
      "metadata": {
        "id": "8Ut8VY6RB-dT",
        "colab": {
          "base_uri": "https://localhost:8080/"
        },
        "outputId": "cf28bc32-aee8-483a-f015-2cbcf5661d8d"
      },
      "source": [
        "!pip install torch-scatter -f https://pytorch-geometric.com/whl/torch-1.9.0+cu102.html\n",
        "!pip install torch-sparse -f https://pytorch-geometric.com/whl/torch-1.9.0+cu102.html\n",
        "!pip install torch-cluster -f https://pytorch-geometric.com/whl/torch-1.9.0+cu102.html\n",
        "!pip install torch-spline-conv -f https://pytorch-geometric.com/whl/torch-1.9.0+cu102.html\n",
        "!pip install torch-geometric"
      ],
      "execution_count": 2,
      "outputs": [
        {
          "output_type": "stream",
          "text": [
            "Looking in links: https://pytorch-geometric.com/whl/torch-1.9.0+cu102.html\n",
            "Requirement already satisfied: torch-scatter in /usr/local/lib/python3.7/dist-packages (2.0.7)\n",
            "Looking in links: https://pytorch-geometric.com/whl/torch-1.9.0+cu102.html\n",
            "Requirement already satisfied: torch-sparse in /usr/local/lib/python3.7/dist-packages (0.6.10)\n",
            "Requirement already satisfied: scipy in /usr/local/lib/python3.7/dist-packages (from torch-sparse) (1.4.1)\n",
            "Requirement already satisfied: numpy>=1.13.3 in /usr/local/lib/python3.7/dist-packages (from scipy->torch-sparse) (1.19.5)\n",
            "Looking in links: https://pytorch-geometric.com/whl/torch-1.9.0+cu102.html\n",
            "Requirement already satisfied: torch-cluster in /usr/local/lib/python3.7/dist-packages (1.5.9)\n",
            "Looking in links: https://pytorch-geometric.com/whl/torch-1.9.0+cu102.html\n",
            "Requirement already satisfied: torch-spline-conv in /usr/local/lib/python3.7/dist-packages (1.2.1)\n",
            "Requirement already satisfied: torch-geometric in /usr/local/lib/python3.7/dist-packages (1.7.1)\n",
            "Requirement already satisfied: jinja2 in /usr/local/lib/python3.7/dist-packages (from torch-geometric) (2.11.3)\n",
            "Requirement already satisfied: pandas in /usr/local/lib/python3.7/dist-packages (from torch-geometric) (1.1.5)\n",
            "Requirement already satisfied: requests in /usr/local/lib/python3.7/dist-packages (from torch-geometric) (2.23.0)\n",
            "Requirement already satisfied: scipy in /usr/local/lib/python3.7/dist-packages (from torch-geometric) (1.4.1)\n",
            "Requirement already satisfied: googledrivedownloader in /usr/local/lib/python3.7/dist-packages (from torch-geometric) (0.4)\n",
            "Requirement already satisfied: networkx in /usr/local/lib/python3.7/dist-packages (from torch-geometric) (2.5.1)\n",
            "Requirement already satisfied: scikit-learn in /usr/local/lib/python3.7/dist-packages (from torch-geometric) (0.22.2.post1)\n",
            "Requirement already satisfied: tqdm in /usr/local/lib/python3.7/dist-packages (from torch-geometric) (4.41.1)\n",
            "Requirement already satisfied: python-louvain in /usr/local/lib/python3.7/dist-packages (from torch-geometric) (0.15)\n",
            "Requirement already satisfied: numpy in /usr/local/lib/python3.7/dist-packages (from torch-geometric) (1.19.5)\n",
            "Requirement already satisfied: rdflib in /usr/local/lib/python3.7/dist-packages (from torch-geometric) (5.0.0)\n",
            "Requirement already satisfied: MarkupSafe>=0.23 in /usr/local/lib/python3.7/dist-packages (from jinja2->torch-geometric) (2.0.1)\n",
            "Requirement already satisfied: python-dateutil>=2.7.3 in /usr/local/lib/python3.7/dist-packages (from pandas->torch-geometric) (2.8.1)\n",
            "Requirement already satisfied: pytz>=2017.2 in /usr/local/lib/python3.7/dist-packages (from pandas->torch-geometric) (2018.9)\n",
            "Requirement already satisfied: certifi>=2017.4.17 in /usr/local/lib/python3.7/dist-packages (from requests->torch-geometric) (2021.5.30)\n",
            "Requirement already satisfied: chardet<4,>=3.0.2 in /usr/local/lib/python3.7/dist-packages (from requests->torch-geometric) (3.0.4)\n",
            "Requirement already satisfied: idna<3,>=2.5 in /usr/local/lib/python3.7/dist-packages (from requests->torch-geometric) (2.10)\n",
            "Requirement already satisfied: urllib3!=1.25.0,!=1.25.1,<1.26,>=1.21.1 in /usr/local/lib/python3.7/dist-packages (from requests->torch-geometric) (1.24.3)\n",
            "Requirement already satisfied: decorator<5,>=4.3 in /usr/local/lib/python3.7/dist-packages (from networkx->torch-geometric) (4.4.2)\n",
            "Requirement already satisfied: joblib>=0.11 in /usr/local/lib/python3.7/dist-packages (from scikit-learn->torch-geometric) (1.0.1)\n",
            "Requirement already satisfied: pyparsing in /usr/local/lib/python3.7/dist-packages (from rdflib->torch-geometric) (2.4.7)\n",
            "Requirement already satisfied: isodate in /usr/local/lib/python3.7/dist-packages (from rdflib->torch-geometric) (0.6.0)\n",
            "Requirement already satisfied: six in /usr/local/lib/python3.7/dist-packages (from rdflib->torch-geometric) (1.15.0)\n"
          ],
          "name": "stdout"
        }
      ]
    },
    {
      "cell_type": "code",
      "metadata": {
        "id": "qh2nH7p7CRJw"
      },
      "source": [
        "from torch_geometric.datasets import Planetoid\n",
        "from torch_geometric.transforms import NormalizeFeatures\n",
        "\n",
        "dataset = Planetoid(root='data/Planetoid', name='PubMed', transform=NormalizeFeatures())\n",
        "data = dataset[0]"
      ],
      "execution_count": 3,
      "outputs": []
    },
    {
      "cell_type": "code",
      "metadata": {
        "colab": {
          "base_uri": "https://localhost:8080/"
        },
        "id": "YXbbI-1DCs9e",
        "outputId": "f060ced7-6a3f-4e64-d2e8-9519d2c4ba91"
      },
      "source": [
        "print()\n",
        "print(f'Dataset: {dataset}:')\n",
        "print('======================')\n",
        "print(f'Number of graphs: {len(dataset)}')\n",
        "print(f'Number of features: {dataset.num_features}')\n",
        "print(f'Number of classes: {dataset.num_classes}')\n",
        "\n",
        "print()\n",
        "print(data)\n",
        "print('======================')\n",
        "\n",
        "print(f'Number of nodes: {data.num_nodes}')\n",
        "print(f'Number of edges: {data.num_edges}')\n",
        "print(f'Average node degree: {data.num_edges / data.num_nodes:.2f}')\n",
        "print(f'Number of training nodes: {data.train_mask.sum()}')\n",
        "print(f'Training node label rate: {int(data.train_mask.sum()) / data.num_nodes:.2f}')\n",
        "print(f'Contains isolated nodes: {data.contains_isolated_nodes()}')\n",
        "print(f'Contains self-loops: {data.contains_self_loops()}')\n",
        "print(f'Is undirected: {data.is_undirected()}')"
      ],
      "execution_count": 4,
      "outputs": [
        {
          "output_type": "stream",
          "text": [
            "\n",
            "Dataset: PubMed():\n",
            "======================\n",
            "Number of graphs: 1\n",
            "Number of features: 500\n",
            "Number of classes: 3\n",
            "\n",
            "Data(edge_index=[2, 88648], test_mask=[19717], train_mask=[19717], val_mask=[19717], x=[19717, 500], y=[19717])\n",
            "======================\n",
            "Number of nodes: 19717\n",
            "Number of edges: 88648\n",
            "Average node degree: 4.50\n",
            "Number of training nodes: 60\n",
            "Training node label rate: 0.00\n",
            "Contains isolated nodes: False\n",
            "Contains self-loops: False\n",
            "Is undirected: True\n"
          ],
          "name": "stdout"
        }
      ]
    },
    {
      "cell_type": "code",
      "metadata": {
        "id": "eo4-L1z9DWg7"
      },
      "source": [
        "import matplotlib.pyplot as plt\n",
        "from sklearn.manifold import TSNE\n",
        "\n",
        "def visualize(out, color):\n",
        "    z = TSNE(n_components=2).fit_transform(out.detach().cpu().numpy())\n",
        "    plt.figure(figsize=(10,10))\n",
        "    plt.xticks([])\n",
        "    plt.yticks([])\n",
        "\n",
        "    plt.scatter(z[:, 0], z[:, 1], s=70, c=color, cmap=\"Set2\")\n",
        "    plt.show()"
      ],
      "execution_count": 5,
      "outputs": []
    },
    {
      "cell_type": "code",
      "metadata": {
        "id": "1377vX7GF9g9"
      },
      "source": [
        "def train(model, useGNN=True):\n",
        "    model.train()\n",
        "    optimizer.zero_grad() \n",
        "    if useGNN:\n",
        "        out = model(data.x, data.edge_index)\n",
        "    else:\n",
        "        out = model(data.x)\n",
        "    loss = criterion(out[data.train_mask], data.y[data.train_mask]) \n",
        "    loss.backward() \n",
        "    optimizer.step() \n",
        "    return loss\n",
        "\n",
        "def test(model, useGNN=True):\n",
        "    model.eval()\n",
        "    if useGNN:\n",
        "        out = model(data.x, data.edge_index)\n",
        "    else:\n",
        "        out = model(data.x)\n",
        "    pred = out.argmax(dim=1) \n",
        "    test_correct = pred[data.test_mask] == data.y[data.test_mask]\n",
        "    test_acc = int(test_correct.sum()) / int(data.test_mask.sum())\n",
        "    return test_acc, out"
      ],
      "execution_count": 6,
      "outputs": []
    },
    {
      "cell_type": "code",
      "metadata": {
        "id": "un7MOhW1GTrZ"
      },
      "source": [
        "import torch\n",
        "from torch.nn import Linear\n",
        "import torch.nn.functional as F"
      ],
      "execution_count": 7,
      "outputs": []
    },
    {
      "cell_type": "code",
      "metadata": {
        "colab": {
          "base_uri": "https://localhost:8080/"
        },
        "id": "h4UNE6WWDcrN",
        "outputId": "06bc206d-4ae0-47bd-825d-eb72196da38c"
      },
      "source": [
        "class MLP(torch.nn.Module):\n",
        "    def __init__(self, num_features, num_classes, hidden_channels):\n",
        "        super(MLP, self).__init__()\n",
        "        self.lin1 = Linear(num_features, hidden_channels)\n",
        "        self.lin2 = Linear(hidden_channels, num_classes)\n",
        "\n",
        "    def forward(self, x):\n",
        "        x = self.lin1(x)\n",
        "        x = x.relu()\n",
        "        x = F.dropout(x, p=0.5, training=self.training)\n",
        "        x = self.lin2(x)\n",
        "        return x\n",
        "    \n",
        "model = MLP(dataset.num_features, dataset.num_classes, 16)\n",
        "print(model)"
      ],
      "execution_count": 8,
      "outputs": [
        {
          "output_type": "stream",
          "text": [
            "MLP(\n",
            "  (lin1): Linear(in_features=500, out_features=16, bias=True)\n",
            "  (lin2): Linear(in_features=16, out_features=3, bias=True)\n",
            ")\n"
          ],
          "name": "stdout"
        }
      ]
    },
    {
      "cell_type": "code",
      "metadata": {
        "colab": {
          "base_uri": "https://localhost:8080/"
        },
        "id": "ecF64IvOEHX4",
        "outputId": "c8c3078c-df1a-4dbf-81d8-6f1489a63a0f"
      },
      "source": [
        "criterion = torch.nn.CrossEntropyLoss()  \n",
        "optimizer = torch.optim.Adam(model.parameters(), lr=0.01, weight_decay=5e-4) \n",
        "\n",
        "for epoch in range(200):\n",
        "    loss = train(model, False)\n",
        "    if (epoch + 1) % 20 == 0:\n",
        "        print(f\"Epoch {epoch + 1} Loss: {loss:.4f}\")\n",
        "\n",
        "test_acc, out = test(model, False)\n",
        "print(f\"Test Accuracy: {test_acc:.4f}\")"
      ],
      "execution_count": 9,
      "outputs": [
        {
          "output_type": "stream",
          "text": [
            "Epoch 20 Loss: 0.9345\n",
            "Epoch 40 Loss: 0.5690\n",
            "Epoch 60 Loss: 0.3334\n",
            "Epoch 80 Loss: 0.2371\n",
            "Epoch 100 Loss: 0.1919\n",
            "Epoch 120 Loss: 0.1665\n",
            "Epoch 140 Loss: 0.1206\n",
            "Epoch 160 Loss: 0.1750\n",
            "Epoch 180 Loss: 0.1485\n",
            "Epoch 200 Loss: 0.1533\n",
            "Test Accuracy: 0.7340\n"
          ],
          "name": "stdout"
        }
      ]
    },
    {
      "cell_type": "code",
      "metadata": {
        "colab": {
          "base_uri": "https://localhost:8080/"
        },
        "id": "Vs6JvlCBKrdL",
        "outputId": "6ad338da-868e-4312-8095-2ee2df556596"
      },
      "source": [
        "from torch_geometric.nn import GCNConv\n",
        "\n",
        "class GCN(torch.nn.Module):\n",
        "    def __init__(self, num_features, num_classes, hidden_channels):\n",
        "        super(GCN, self).__init__()\n",
        "        self.conv1 = GCNConv(num_features, hidden_channels)\n",
        "        self.conv2 = GCNConv(hidden_channels, num_classes)\n",
        "\n",
        "    def forward(self, x, edge_index):\n",
        "        x = self.conv1(x, edge_index)\n",
        "        x = x.relu()\n",
        "        x = F.dropout(x, p=0.5, training=self.training)\n",
        "        x = self.conv2(x, edge_index)\n",
        "        return x\n",
        "\n",
        "model = GCN(dataset.num_features, dataset.num_classes, hidden_channels=16)\n",
        "device = torch.device(\"cuda:0\" if torch.cuda.is_available() else \"cpu\")\n",
        "model.to(device)\n",
        "data.to(device)\n",
        "print(model)"
      ],
      "execution_count": 10,
      "outputs": [
        {
          "output_type": "stream",
          "text": [
            "GCN(\n",
            "  (conv1): GCNConv(500, 16)\n",
            "  (conv2): GCNConv(16, 3)\n",
            ")\n"
          ],
          "name": "stdout"
        }
      ]
    },
    {
      "cell_type": "code",
      "metadata": {
        "colab": {
          "base_uri": "https://localhost:8080/"
        },
        "id": "xyYnfMJ1LBb5",
        "outputId": "3044f744-a700-4915-8dbd-dcfcc7cafc17"
      },
      "source": [
        "criterion = torch.nn.CrossEntropyLoss()  \n",
        "optimizer = torch.optim.Adam(model.parameters(), lr=0.01, weight_decay=5e-4) \n",
        "\n",
        "for epoch in range(200):\n",
        "    loss = train(model)\n",
        "    if (epoch + 1) % 20 == 0:\n",
        "        print(f\"Epoch {epoch + 1} Loss: {loss:.4f}\")\n",
        "\n",
        "test_acc, out = test(model)\n",
        "print(f\"Test Accuracy: {test_acc:.4f}\")"
      ],
      "execution_count": 11,
      "outputs": [
        {
          "output_type": "stream",
          "text": [
            "Epoch 20 Loss: 0.8818\n",
            "Epoch 40 Loss: 0.5760\n",
            "Epoch 60 Loss: 0.4305\n",
            "Epoch 80 Loss: 0.3209\n",
            "Epoch 100 Loss: 0.2116\n",
            "Epoch 120 Loss: 0.1811\n",
            "Epoch 140 Loss: 0.2338\n",
            "Epoch 160 Loss: 0.1510\n",
            "Epoch 180 Loss: 0.1866\n",
            "Epoch 200 Loss: 0.1628\n",
            "Test Accuracy: 0.7870\n"
          ],
          "name": "stdout"
        }
      ]
    },
    {
      "cell_type": "code",
      "metadata": {
        "id": "GjGyaW8IME9Y",
        "colab": {
          "base_uri": "https://localhost:8080/"
        },
        "outputId": "5fefcb13-cdcd-4e05-c66f-a0abc9d50595"
      },
      "source": [
        "from torch_geometric.nn import GATConv\n",
        "\n",
        "class GAT(torch.nn.Module):\n",
        "    def __init__(self, num_features, num_classes, hidden_channels):\n",
        "        super(GAT, self).__init__()\n",
        "        self.conv1 = GATConv(num_features, hidden_channels)\n",
        "        self.conv2 = GATConv(hidden_channels, num_classes)\n",
        "\n",
        "    def forward(self, x, edge_index):\n",
        "        x = self.conv1(x, edge_index)\n",
        "        x = x.relu()\n",
        "        x = F.dropout(x, p=0.5, training=self.training)\n",
        "        x = self.conv2(x, edge_index)\n",
        "        return x\n",
        "\n",
        "model = GAT(dataset.num_features, dataset.num_classes, hidden_channels=16)\n",
        "model.to(device)\n",
        "print(model)"
      ],
      "execution_count": 12,
      "outputs": [
        {
          "output_type": "stream",
          "text": [
            "GAT(\n",
            "  (conv1): GATConv(500, 16, heads=1)\n",
            "  (conv2): GATConv(16, 3, heads=1)\n",
            ")\n"
          ],
          "name": "stdout"
        }
      ]
    },
    {
      "cell_type": "code",
      "metadata": {
        "id": "FX8n4OMeRbvf",
        "colab": {
          "base_uri": "https://localhost:8080/"
        },
        "outputId": "21292ee0-a47f-425a-8f88-e008c4810256"
      },
      "source": [
        "criterion = torch.nn.CrossEntropyLoss()  \n",
        "optimizer = torch.optim.Adam(model.parameters(), lr=0.01, weight_decay=5e-4) \n",
        "\n",
        "for epoch in range(200):\n",
        "    loss = train(model)\n",
        "    if (epoch + 1) % 20 == 0:\n",
        "        print(f\"Epoch {epoch + 1} Loss: {loss:.4f}\")\n",
        "\n",
        "test_acc, out = test(model)\n",
        "print(f\"Test Accuracy: {test_acc:.4f}\")"
      ],
      "execution_count": 13,
      "outputs": [
        {
          "output_type": "stream",
          "text": [
            "Epoch 20 Loss: 0.8703\n",
            "Epoch 40 Loss: 0.5932\n",
            "Epoch 60 Loss: 0.3063\n",
            "Epoch 80 Loss: 0.1923\n",
            "Epoch 100 Loss: 0.1818\n",
            "Epoch 120 Loss: 0.1312\n",
            "Epoch 140 Loss: 0.1033\n",
            "Epoch 160 Loss: 0.0727\n",
            "Epoch 180 Loss: 0.0982\n",
            "Epoch 200 Loss: 0.0768\n",
            "Test Accuracy: 0.7910\n"
          ],
          "name": "stdout"
        }
      ]
    }
  ]
}